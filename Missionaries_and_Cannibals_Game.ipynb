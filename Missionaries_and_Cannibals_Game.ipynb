{
  "nbformat": 4,
  "nbformat_minor": 0,
  "metadata": {
    "colab": {
      "provenance": [],
      "authorship_tag": "ABX9TyNjbE1JTs+nSiJ0bbLgLfO7",
      "include_colab_link": true
    },
    "kernelspec": {
      "name": "python3",
      "display_name": "Python 3"
    },
    "language_info": {
      "name": "python"
    }
  },
  "cells": [
    {
      "cell_type": "markdown",
      "metadata": {
        "id": "view-in-github",
        "colab_type": "text"
      },
      "source": [
        "<a href=\"https://colab.research.google.com/github/Av419/Missionaries-and-Cannibals/blob/main/Missionaries_and_Cannibals_Game.ipynb\" target=\"_parent\"><img src=\"https://colab.research.google.com/assets/colab-badge.svg\" alt=\"Open In Colab\"/></a>"
      ]
    },
    {
      "cell_type": "markdown",
      "source": [
        "## Display Initial Variables"
      ],
      "metadata": {
        "id": "jQdosZeaiHzO"
      }
    },
    {
      "cell_type": "code",
      "source": [
        "boat_side = \"Right\"\n",
        "Missionaries_on_Right = 3\n",
        "Cannibals_on_Right = 3\n",
        "Missionaries_on_Left = 0\n",
        "Cannibals_on_Left = 0"
      ],
      "metadata": {
        "id": "qWVJCbfBl5jN"
      },
      "execution_count": 2,
      "outputs": []
    },
    {
      "cell_type": "markdown",
      "source": [
        "## Print the Initial Display of the Game"
      ],
      "metadata": {
        "id": "uUI2L0E1mzTQ"
      }
    },
    {
      "cell_type": "code",
      "source": [
        "print(\"M =\",Missionaries_on_Left,\"C =\",Cannibals_on_Left,\"|-----B|\",\"M =\",Missionaries_on_Right,\"C =\",Cannibals_on_Right)"
      ],
      "metadata": {
        "colab": {
          "base_uri": "https://localhost:8080/"
        },
        "id": "xvd-2Le9m9y0",
        "outputId": "2f8fd582-550f-44be-969c-43724be01b5a"
      },
      "execution_count": 3,
      "outputs": [
        {
          "output_type": "stream",
          "name": "stdout",
          "text": [
            "M = 0 C = 0 |-----B| M = 3 C = 3\n"
          ]
        }
      ]
    },
    {
      "cell_type": "markdown",
      "source": [
        "## User Input for Missionaries and Cannibals"
      ],
      "metadata": {
        "id": "pzzdbRivn33D"
      }
    },
    {
      "cell_type": "code",
      "source": [
        "Missionaries = int(input(\"Enter M =\"))\n",
        "Cannibals = int(input(\"Enter C =\"))"
      ],
      "metadata": {
        "colab": {
          "base_uri": "https://localhost:8080/"
        },
        "id": "JFptVzfIoCsr",
        "outputId": "c31a8211-9374-4da1-8f84-f57e7dfd114f"
      },
      "execution_count": 4,
      "outputs": [
        {
          "name": "stdout",
          "output_type": "stream",
          "text": [
            "Enter M =1\n",
            "Enter C =1\n"
          ]
        }
      ]
    },
    {
      "cell_type": "markdown",
      "source": [
        "## Maximum person on boat"
      ],
      "metadata": {
        "id": "0oTjva9-otTE"
      }
    },
    {
      "cell_type": "code",
      "source": [
        "if (Missionaries + Cannibals)!=1 or (Missionaries + Cannibals)!=2:\n",
        "  print(\"Invalid Move\")"
      ],
      "metadata": {
        "colab": {
          "base_uri": "https://localhost:8080/"
        },
        "id": "hcynCPIGo_Xm",
        "outputId": "896af8f0-3a94-492e-8a64-860d2a5c5fcf"
      },
      "execution_count": 5,
      "outputs": [
        {
          "output_type": "stream",
          "name": "stdout",
          "text": [
            "Invalid Move\n"
          ]
        }
      ]
    },
    {
      "cell_type": "markdown",
      "source": [
        "## Add if-else statement to check the boat_side variable"
      ],
      "metadata": {
        "id": "OUHpjUlisWc0"
      }
    },
    {
      "cell_type": "code",
      "source": [
        "if boat_side == \"Right\":\n",
        "  print(\"Boat is on the right side \")\n",
        "else:\n",
        "  print(\"Boat is on the left side\")"
      ],
      "metadata": {
        "colab": {
          "base_uri": "https://localhost:8080/"
        },
        "id": "AJYlr6stsvpA",
        "outputId": "8aabf2e1-4a2b-4db4-88e0-9e41fa12e014"
      },
      "execution_count": 6,
      "outputs": [
        {
          "output_type": "stream",
          "name": "stdout",
          "text": [
            "Boat is on the right side \n"
          ]
        }
      ]
    },
    {
      "cell_type": "markdown",
      "source": [
        "## Check the count at Right Side"
      ],
      "metadata": {
        "id": "KroGNmbKQ98l"
      }
    },
    {
      "cell_type": "code",
      "source": [
        "if Missionaries_on_Right < Missionaries or Cannibals_on_Right < Cannibals:\n",
        "  print(\"Invalid Move\")"
      ],
      "metadata": {
        "id": "aLRsHmhARHTi"
      },
      "execution_count": 7,
      "outputs": []
    },
    {
      "cell_type": "code",
      "execution_count": 8,
      "metadata": {
        "id": "CCKrc_6xhy7t"
      },
      "outputs": [],
      "source": [
        "Missionaries_on_Right = Missionaries_on_Right - Missionaries\n",
        "Cannibals_on_Right = Cannibals_on_Right - Cannibals"
      ]
    },
    {
      "cell_type": "code",
      "source": [
        "Missionaries_on_Left = Missionaries_on_Left + Missionaries\n",
        "Cannibals_on_Left = Cannibals_on_Left + Cannibals"
      ],
      "metadata": {
        "id": "2FaY-iMLgLMR"
      },
      "execution_count": 9,
      "outputs": []
    },
    {
      "cell_type": "markdown",
      "source": [
        "## Displaying The Current Game Board"
      ],
      "metadata": {
        "id": "V-Ys0xMIghpW"
      }
    },
    {
      "cell_type": "code",
      "source": [
        "print(\"M =\",Missionaries_on_Left,\"C =\",Cannibals_on_Left,\"|B-----|\",\"M =\",Missionaries_on_Right,\"C =\",Cannibals_on_Right)"
      ],
      "metadata": {
        "colab": {
          "base_uri": "https://localhost:8080/"
        },
        "id": "8EuTC86XgnzU",
        "outputId": "f95f1b49-f0bc-44c2-f793-957f31dad62d"
      },
      "execution_count": 10,
      "outputs": [
        {
          "output_type": "stream",
          "name": "stdout",
          "text": [
            "M = 1 C = 1 |B-----| M = 2 C = 2\n"
          ]
        }
      ]
    },
    {
      "cell_type": "markdown",
      "source": [
        "## If Statement for Left Side"
      ],
      "metadata": {
        "id": "KGLeegnvhnQg"
      }
    },
    {
      "cell_type": "code",
      "source": [
        "if Missionaries_on_Left<Missionaries or Cannibals_on_Left<Cannibals:\n",
        "  print(\"Invalid Move\")"
      ],
      "metadata": {
        "id": "UYxGxuZvhuI1"
      },
      "execution_count": 11,
      "outputs": []
    },
    {
      "cell_type": "code",
      "source": [
        "Missionaries_on_Left = Missionaries_on_Left-Missionaries\n",
        "Cannibals_on_Left = Cannibals_on_Left-Cannibals"
      ],
      "metadata": {
        "id": "u8H2bRtTijZ_"
      },
      "execution_count": 12,
      "outputs": []
    },
    {
      "cell_type": "code",
      "source": [
        "Missionaries_on_Right += Missionaries\n",
        "Cannibals_on_Right+= Cannibals"
      ],
      "metadata": {
        "id": "q9cQbU47i6JW"
      },
      "execution_count": 13,
      "outputs": []
    },
    {
      "cell_type": "markdown",
      "source": [
        "## Display Game Board"
      ],
      "metadata": {
        "id": "ESJwJ-sNjw9o"
      }
    },
    {
      "cell_type": "code",
      "source": [
        "print(\"M =\",Missionaries_on_Left,\"C =\",Cannibals_on_Left,\"|-----B|\",\"M =\",Missionaries_on_Right,\"C =\",Cannibals_on_Right)"
      ],
      "metadata": {
        "colab": {
          "base_uri": "https://localhost:8080/"
        },
        "id": "udzy8Im1j076",
        "outputId": "546e58d5-b4ff-43d1-c907-205fcda3c85f"
      },
      "execution_count": 14,
      "outputs": [
        {
          "output_type": "stream",
          "name": "stdout",
          "text": [
            "M = 0 C = 0 |-----B| M = 3 C = 3\n"
          ]
        }
      ]
    },
    {
      "cell_type": "markdown",
      "source": [
        "## Summing Up the Code"
      ],
      "metadata": {
        "id": "BkSvXJ079pTq"
      }
    },
    {
      "cell_type": "code",
      "source": [
        "boat_side = 'Right'\n",
        "missionaries_on_right = 3\n",
        "cannibals_on_right = 3\n",
        "missionaries_on_left = 0\n",
        "cannibals_on_left = 0\n",
        "\n",
        "print('M=',missionaries_on_left, 'C=',cannibals_on_left, '|-----B|', 'M=',missionaries_on_right,'C=',cannibals_on_right)\n",
        "\n",
        "while True:\n",
        "\n",
        "    missionaries = int(input('No of missionaries or enter 10 to quit : '))\n",
        "    if missionaries == 10:\n",
        "        print('You Quit. Game Over!')\n",
        "        break\n",
        "    cannibals = int(input('No of cannibals : '))\n",
        "\n",
        "    if (missionaries + cannibals) != 1 and (missionaries + cannibals) != 2:\n",
        "        print('Invalid Move')\n",
        "        continue\n",
        "\n",
        "\n",
        "    if boat_side == 'Right':\n",
        "        if missionaries_on_right < missionaries or cannibals_on_right < cannibals :\n",
        "            print('Invalid Move')\n",
        "\n",
        "        missionaries_on_right = missionaries_on_right - missionaries\n",
        "        cannibals_on_right = cannibals_on_right - cannibals\n",
        "\n",
        "        missionaries_on_left += missionaries\n",
        "        cannibals_on_left += cannibals\n",
        "\n",
        "        print('M=' ,missionaries_on_left, 'C=',cannibals_on_left, '|B-----|', 'M=',missionaries_on_right,'C=',cannibals_on_right)\n",
        "\n",
        "        boat_side = 'Left'\n",
        "\n",
        "    else:\n",
        "        if missionaries_on_left < missionaries or cannibals_on_left < cannibals:\n",
        "            print('Invalid Move')\n",
        "\n",
        "\n",
        "        missionaries_on_left = missionaries_on_left - missionaries\n",
        "        cannibals_on_left = cannibals_on_left - cannibals\n",
        "\n",
        "        missionaries_on_right += missionaries\n",
        "        cannibals_on_right += cannibals\n",
        "\n",
        "        print('M=',missionaries_on_left, 'C=',cannibals_on_left, '|-----B|', 'M=',missionaries_on_right,'C=',cannibals_on_right)\n",
        "        boat_side = 'Right'\n",
        "\n",
        "    if (missionaries_on_right < cannibals_on_right and missionaries_on_right > 0) or (missionaries_on_left < cannibals_on_left and missionaries_on_left > 0):\n",
        "        print('You Loose')\n",
        "        break\n",
        "\n",
        "    if(missionaries_on_left == 3 and cannibals_on_left == 3):\n",
        "        print('You win')\n",
        "        break"
      ],
      "metadata": {
        "colab": {
          "base_uri": "https://localhost:8080/"
        },
        "id": "j9HJrJW88pc_",
        "outputId": "362d3a6a-0a52-48cb-a201-f3bfcca936eb"
      },
      "execution_count": null,
      "outputs": [
        {
          "output_type": "stream",
          "name": "stdout",
          "text": [
            "M= 0 C= 0 |-----B| M= 3 C= 3\n",
            "No of missionaries or enter 10 to quit : 1\n",
            "No of cannibals : 1\n",
            "M= 1 C= 1 |B-----| M= 2 C= 2\n",
            "No of missionaries or enter 10 to quit : 2\n",
            "No of cannibals : 0\n",
            "Invalid Move\n",
            "M= -1 C= 1 |-----B| M= 4 C= 2\n"
          ]
        }
      ]
    }
  ]
}