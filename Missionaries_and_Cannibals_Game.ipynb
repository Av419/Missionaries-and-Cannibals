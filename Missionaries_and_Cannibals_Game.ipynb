{
  "nbformat": 4,
  "nbformat_minor": 0,
  "metadata": {
    "colab": {
      "provenance": [],
      "authorship_tag": "ABX9TyNsAuY45lVHhXa894uvSpXw",
      "include_colab_link": true
    },
    "kernelspec": {
      "name": "python3",
      "display_name": "Python 3"
    },
    "language_info": {
      "name": "python"
    }
  },
  "cells": [
    {
      "cell_type": "markdown",
      "metadata": {
        "id": "view-in-github",
        "colab_type": "text"
      },
      "source": [
        "<a href=\"https://colab.research.google.com/github/Av419/Missionaries-and-Cannibals/blob/main/Missionaries_and_Cannibals_Game.ipynb\" target=\"_parent\"><img src=\"https://colab.research.google.com/assets/colab-badge.svg\" alt=\"Open In Colab\"/></a>"
      ]
    },
    {
      "cell_type": "markdown",
      "source": [
        "## Display Initial Variables"
      ],
      "metadata": {
        "id": "jQdosZeaiHzO"
      }
    },
    {
      "cell_type": "code",
      "source": [
        "boat_side = \"Right\"\n",
        "Missionaries_on_Right = 3\n",
        "Cannibals_on_Right = 3\n",
        "Missionaries_on_Left = 0\n",
        "Cannibals_on_Left = 0"
      ],
      "metadata": {
        "id": "qWVJCbfBl5jN"
      },
      "execution_count": 1,
      "outputs": []
    },
    {
      "cell_type": "markdown",
      "source": [
        "## Print the Initial Display of the Game"
      ],
      "metadata": {
        "id": "uUI2L0E1mzTQ"
      }
    },
    {
      "cell_type": "code",
      "source": [
        "print(\"M =\",Missionaries_on_Left,\"C =\",Cannibals_on_Left,\"|-----B|\",\"M =\",Missionaries_on_Right,\"C =\",Cannibals_on_Right)"
      ],
      "metadata": {
        "colab": {
          "base_uri": "https://localhost:8080/"
        },
        "id": "xvd-2Le9m9y0",
        "outputId": "ab52c725-eaa7-4cba-cdae-5c5164feeaec"
      },
      "execution_count": 2,
      "outputs": [
        {
          "output_type": "stream",
          "name": "stdout",
          "text": [
            "M = 0 C = 0 |-----B| M = 3 C = 3\n"
          ]
        }
      ]
    },
    {
      "cell_type": "markdown",
      "source": [
        "## User Input for Missionaries and Cannibals"
      ],
      "metadata": {
        "id": "pzzdbRivn33D"
      }
    },
    {
      "cell_type": "code",
      "source": [
        "Missionaries = int(input(\"Enter M =\"))\n",
        "Cannibals = int(input(\"Enter C =\"))"
      ],
      "metadata": {
        "id": "JFptVzfIoCsr"
      },
      "execution_count": null,
      "outputs": []
    },
    {
      "cell_type": "markdown",
      "source": [
        "## Maximum person on boat"
      ],
      "metadata": {
        "id": "0oTjva9-otTE"
      }
    },
    {
      "cell_type": "code",
      "source": [
        "if (Missionaries + Cannibals)!=1 or (Missionaries + Cannibals)!=2:\n",
        "  print(\"Invalid Move\")"
      ],
      "metadata": {
        "id": "hcynCPIGo_Xm"
      },
      "execution_count": null,
      "outputs": []
    },
    {
      "cell_type": "markdown",
      "source": [
        "## Add if-else statement to check the boat_side variable"
      ],
      "metadata": {
        "id": "OUHpjUlisWc0"
      }
    },
    {
      "cell_type": "code",
      "source": [
        "if boat_side == \"Right\":\n",
        "  print(\"Boat is on the right side \")\n",
        "else:\n",
        "  print(\"Boat is on the left side\")"
      ],
      "metadata": {
        "colab": {
          "base_uri": "https://localhost:8080/"
        },
        "id": "AJYlr6stsvpA",
        "outputId": "0be4d6ec-34bc-45df-8f02-47eae104612c"
      },
      "execution_count": 6,
      "outputs": [
        {
          "output_type": "stream",
          "name": "stdout",
          "text": [
            "Boat is on the right side \n"
          ]
        }
      ]
    },
    {
      "cell_type": "markdown",
      "source": [
        "## Check the count at Right Side"
      ],
      "metadata": {
        "id": "KroGNmbKQ98l"
      }
    },
    {
      "cell_type": "code",
      "source": [
        "if Missionaries_on_Right < Missionaries or Cannibals_on_Right < Cannibals:\n",
        "  print(\"Invalid Move\")"
      ],
      "metadata": {
        "id": "aLRsHmhARHTi"
      },
      "execution_count": null,
      "outputs": []
    },
    {
      "cell_type": "code",
      "execution_count": null,
      "metadata": {
        "id": "CCKrc_6xhy7t"
      },
      "outputs": [],
      "source": [
        "Missionaries_on_Right = Missionaries_on_Right - Missionaries\n",
        "Cannibals_on_Right = Cannibals_on_Right - Cannibals"
      ]
    },
    {
      "cell_type": "code",
      "source": [
        "Missionaries_on_Left = Missionaries_on_Left + Missionaries\n",
        "Cannibals_on_Left = Cannibals_on_Left + Cannibals"
      ],
      "metadata": {
        "id": "2FaY-iMLgLMR"
      },
      "execution_count": null,
      "outputs": []
    },
    {
      "cell_type": "markdown",
      "source": [
        "## Displaying The Current Game Board"
      ],
      "metadata": {
        "id": "V-Ys0xMIghpW"
      }
    },
    {
      "cell_type": "code",
      "source": [
        "print(\"M =\",Missionaries_on_Left,\"C =\",Cannibals_on_Left,\"|B-----|\",\"M =\",Missionaries_on_Right,\"C =\",Cannibals_on_Right)"
      ],
      "metadata": {
        "id": "8EuTC86XgnzU"
      },
      "execution_count": null,
      "outputs": []
    },
    {
      "cell_type": "markdown",
      "source": [
        "## If Statement for Left Side"
      ],
      "metadata": {
        "id": "KGLeegnvhnQg"
      }
    },
    {
      "cell_type": "code",
      "source": [
        "if Missionaries_on_Left<Missionaries or Cannibals_on_Left<Cannibals:\n",
        "  print(\"Invalid Move\")"
      ],
      "metadata": {
        "id": "UYxGxuZvhuI1"
      },
      "execution_count": null,
      "outputs": []
    },
    {
      "cell_type": "code",
      "source": [
        "Missionaries_on_Left = Missionaries_on_Left-Missionaries\n",
        "Cannibals_on_Left = Cannibals_on_Left-Cannibals"
      ],
      "metadata": {
        "id": "u8H2bRtTijZ_"
      },
      "execution_count": null,
      "outputs": []
    },
    {
      "cell_type": "code",
      "source": [
        "Missionaries_on_Right += Missionaries\n",
        "Cannibals_on_Right+= Cannibals"
      ],
      "metadata": {
        "id": "q9cQbU47i6JW"
      },
      "execution_count": null,
      "outputs": []
    },
    {
      "cell_type": "markdown",
      "source": [
        "## Display Game Board"
      ],
      "metadata": {
        "id": "ESJwJ-sNjw9o"
      }
    },
    {
      "cell_type": "code",
      "source": [
        "print(\"M =\",Missionaries_on_Left,\"C =\",Cannibals_on_Left,\"|-----B|\",\"M =\",Missionaries_on_Right,\"C =\",Cannibals_on_Right)"
      ],
      "metadata": {
        "id": "udzy8Im1j076"
      },
      "execution_count": null,
      "outputs": []
    }
  ]
}